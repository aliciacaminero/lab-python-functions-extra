{
 "cells": [
  {
   "cell_type": "markdown",
   "id": "25d7736c-ba17-4aff-b6bb-66eba20fbf4e",
   "metadata": {},
   "source": [
    "# Lab | Functions"
   ]
  },
  {
   "cell_type": "markdown",
   "id": "6f8e446f-16b4-4e21-92e7-9d3d1eb551b6",
   "metadata": {},
   "source": [
    "Objective: Practice how to define and call functions, pass arguments, return values, and handle scope. "
   ]
  },
  {
   "cell_type": "markdown",
   "id": "e253e768-aed8-4791-a800-87add1204afa",
   "metadata": {},
   "source": [
    "## Challenge 1: completing functions based on docstring\n",
    "\n",
    "Complete the functions below according to the docstring, and test them by calling them to make sure they are well implemented."
   ]
  },
  {
   "cell_type": "code",
   "execution_count": 1,
   "id": "df908bed-acc6-4b67-b33a-f3b1c564a49f",
   "metadata": {},
   "outputs": [],
   "source": [
    "def get_unique_list(lst):\n",
    "    \"\"\"\n",
    "    Takes a list as an argument and returns a new list with unique elements from the first list.\n",
    "\n",
    "    Parameters:\n",
    "    lst (list): The input list.\n",
    "\n",
    "    Returns:\n",
    "    list: A new list with unique elements from the input list.\n",
    "    \"\"\"\n",
    "    return list(set(lst))\n"
   ]
  },
  {
   "cell_type": "markdown",
   "id": "214c2c27-c4fa-46cf-bfbf-26fb25b25882",
   "metadata": {},
   "source": [
    "Example:\n",
    "\n",
    "*Input [1,2,3,3,3,3,4,5] -> type: list*\n",
    "\n",
    "*Expected Output [1,2,3,4,5] -> type: list*"
   ]
  },
  {
   "cell_type": "code",
   "execution_count": 2,
   "id": "7d5c8e34-a116-4428-ab9d-e0e15e338fff",
   "metadata": {},
   "outputs": [],
   "source": [
    "def count_case(string):\n",
    "    \"\"\"\n",
    "    Returns the number of uppercase and lowercase letters in the given string.\n",
    "\n",
    "    Parameters:\n",
    "    string (str): The string to count uppercase and lowercase letters in.\n",
    "\n",
    "    Returns:\n",
    "    A tuple containing the count of uppercase and lowercase letters in the string.\n",
    "    \"\"\"\n",
    "    # Inicializamos contadores para letras mayúsculas y minúsculas\n",
    "    upper_count = 0\n",
    "    lower_count = 0\n",
    "\n",
    "    # Recorremos cada carácter de la cadena\n",
    "    for char in string:\n",
    "        if char.isupper():\n",
    "            upper_count += 1\n",
    "        elif char.islower():\n",
    "            lower_count += 1\n",
    "\n",
    "    # Devolvemos el resultado como una tupla\n",
    "    return (upper_count, lower_count)"
   ]
  },
  {
   "cell_type": "markdown",
   "id": "2c902b2e-369c-4a40-a166-ca5bc554cab3",
   "metadata": {},
   "source": [
    "Example:\n",
    "\n",
    "*Input: \"Hello World\"* \n",
    "\n",
    "*Expected Output: Uppercase count: 2, Lowercase count: 8* "
   ]
  },
  {
   "cell_type": "code",
   "execution_count": 3,
   "id": "c15b91d4-cfd6-423b-9f36-76012b8792b8",
   "metadata": {},
   "outputs": [],
   "source": [
    "import string\n",
    "\n",
    "def remove_punctuation(sentence):\n",
    "    \"\"\"\n",
    "    Removes all punctuation marks (commas, periods, exclamation marks, question marks) from a sentence.\n",
    "\n",
    "    Parameters:\n",
    "    sentence (str): A string representing a sentence.\n",
    "\n",
    "    Returns:\n",
    "    str: The sentence without any punctuation marks.\n",
    "    \"\"\"\n",
    "    # Usamos translate con str.maketrans para eliminar los signos de puntuación\n",
    "    return sentence.translate(str.maketrans('', '', string.punctuation))\n",
    "\n",
    "def word_count(sentence):\n",
    "    \"\"\"\n",
    "    Counts the number of words in a given sentence. To do this properly, first it removes punctuation from the sentence.\n",
    "    Note: A word is defined as a sequence of characters separated by spaces. We can assume that there will be no leading or trailing spaces in the input sentence.\n",
    "    \n",
    "    Parameters:\n",
    "    sentence (str): A string representing a sentence.\n",
    "\n",
    "    Returns:\n",
    "    int: The number of words in the sentence.\n",
    "    \"\"\"\n",
    "    # Primero, eliminamos la puntuación usando la función remove_punctuation\n",
    "    sentence_no_punctuation = remove_punctuation(sentence)\n",
    "    \n",
    "    # Luego, dividimos la cadena en palabras usando el método split() y contamos el número de palabras\n",
    "    words = sentence_no_punctuation.split()\n",
    "    \n",
    "    # Retornamos el número de palabras\n",
    "    return len(words)"
   ]
  },
  {
   "cell_type": "markdown",
   "id": "52814e4d-7631-4c80-80b6-2b206f7e7419",
   "metadata": {},
   "source": [
    "*For example, calling*\n",
    "```python \n",
    "word_count(\"Note : this is an example !!! Good day : )\")\n",
    "``` \n",
    "\n",
    "*would give you as expected output: 7*"
   ]
  },
  {
   "cell_type": "markdown",
   "id": "fb01ccba-2ecc-4eea-b9a9-2bf9d29e8804",
   "metadata": {},
   "source": [
    "## Challenge 2: Build a Calculator\n",
    "\n",
    "In this exercise, you will build a calculator using Python functions. The calculator will be able to perform basic arithmetic operations like addition, subtraction, multiplication, and division.\n",
    "\n",
    "Instructions\n",
    "- Define four functions for addition, subtraction, multiplication, and division.\n",
    "- Each function should take two arguments, perform the respective arithmetic operation, and return the result.\n",
    "- Define another function called \"calculate\" that takes three arguments: two operands and an operator.\n",
    "- The \"calculate\" function should use a conditional statement to determine which arithmetic function to call based on the operator argument.\n",
    "- The \"calculate\" function should then call the appropriate arithmetic function and return the result.\n",
    "- Test your \"calculate\" function by calling it with different input parameters.\n"
   ]
  },
  {
   "cell_type": "code",
   "execution_count": 4,
   "id": "57f9afc7-8626-443c-9c3e-eb78ef503193",
   "metadata": {},
   "outputs": [
    {
     "name": "stdout",
     "output_type": "stream",
     "text": [
      "15\n",
      "5\n",
      "50\n",
      "2.0\n",
      "Error: División por cero\n",
      "Error: Operador no válido\n"
     ]
    }
   ],
   "source": [
    "# Definición de funciones para operaciones aritméticas\n",
    "\n",
    "def add(a, b):\n",
    "    \"\"\"Suma dos números\"\"\"\n",
    "    return a + b\n",
    "\n",
    "def subtract(a, b):\n",
    "    \"\"\"Resta dos números\"\"\"\n",
    "    return a - b\n",
    "\n",
    "def multiply(a, b):\n",
    "    \"\"\"Multiplica dos números\"\"\"\n",
    "    return a * b\n",
    "\n",
    "def divide(a, b):\n",
    "    \"\"\"Divide dos números, con manejo de error si el divisor es 0\"\"\"\n",
    "    if b == 0:\n",
    "        return \"Error: División por cero\"\n",
    "    return a / b\n",
    "\n",
    "# Función principal para calcular según el operador\n",
    "def calculate(operand1, operand2, operator):\n",
    "    \"\"\"\n",
    "    Calcula el resultado de una operación aritmética básica.\n",
    "    \n",
    "    Parameters:\n",
    "    operand1 (float): Primer número\n",
    "    operand2 (float): Segundo número\n",
    "    operator (str): El operador, que puede ser '+', '-', '*', '/'\n",
    "    \n",
    "    Returns:\n",
    "    float: El resultado de la operación, o un mensaje de error si es necesario\n",
    "    \"\"\"\n",
    "    if operator == '+':\n",
    "        return add(operand1, operand2)\n",
    "    elif operator == '-':\n",
    "        return subtract(operand1, operand2)\n",
    "    elif operator == '*':\n",
    "        return multiply(operand1, operand2)\n",
    "    elif operator == '/':\n",
    "        return divide(operand1, operand2)\n",
    "    else:\n",
    "        return \"Error: Operador no válido\"\n",
    "\n",
    "# Pruebas\n",
    "\n",
    "print(calculate(10, 5, '+'))  # Resultado: 15\n",
    "print(calculate(10, 5, '-'))  # Resultado: 5\n",
    "print(calculate(10, 5, '*'))  # Resultado: 50\n",
    "print(calculate(10, 5, '/'))  # Resultado: 2.0\n",
    "print(calculate(10, 0, '/'))  # Resultado: \"Error: División por cero\"\n",
    "print(calculate(10, 5, '^'))  # Resultado: \"Error: Operador no válido\"\n"
   ]
  },
  {
   "cell_type": "markdown",
   "id": "d1784c63-208c-4553-9686-acac6c0a9dda",
   "metadata": {},
   "source": [
    "### Bonus: args and kwargs\n",
    "\n",
    "Update the previous exercise so it allows for adding, subtracting, and multiplying more than 2 numbers.\n",
    "\n",
    "The calculator will be able to perform basic arithmetic operations like addition, subtraction, multiplication, and division on multiple numbers.\n",
    "\n",
    "*Hint: use args or kwargs. Recommended external resource: [Args and Kwargs in Python](https://www.geeksforgeeks.org/args-kwargs-python/)*"
   ]
  },
  {
   "cell_type": "code",
   "execution_count": 5,
   "id": "ff3e816c-13ab-447d-a6f2-bb47a8fad2e2",
   "metadata": {},
   "outputs": [
    {
     "name": "stdout",
     "output_type": "stream",
     "text": [
      "6\n",
      "4\n",
      "720\n",
      "5.0\n",
      "Error: División por cero\n",
      "Error: La división requiere exactamente dos números\n",
      "Error: Operador no válido\n"
     ]
    }
   ],
   "source": [
    "# Definición de funciones para operaciones aritméticas con *args\n",
    "\n",
    "def add(*args):\n",
    "    \"\"\"Suma todos los números pasados como argumentos\"\"\"\n",
    "    return sum(args)\n",
    "\n",
    "def subtract(*args):\n",
    "    \"\"\"Resta todos los números pasados como argumentos\"\"\"\n",
    "    result = args[0]  # Empezamos con el primer número\n",
    "    for num in args[1:]:\n",
    "        result -= num\n",
    "    return result\n",
    "\n",
    "def multiply(*args):\n",
    "    \"\"\"Multiplica todos los números pasados como argumentos\"\"\"\n",
    "    result = 1\n",
    "    for num in args:\n",
    "        result *= num\n",
    "    return result\n",
    "\n",
    "def divide(a, b):\n",
    "    \"\"\"Divide dos números. Devuelve error si el divisor es 0.\"\"\"\n",
    "    if b == 0:\n",
    "        return \"Error: División por cero\"\n",
    "    return a / b\n",
    "\n",
    "# Función principal para calcular según el operador\n",
    "def calculate(operator, *args):\n",
    "    \"\"\"\n",
    "    Calcula el resultado de una operación aritmética sobre múltiples números.\n",
    "    \n",
    "    Parameters:\n",
    "    operator (str): El operador, que puede ser '+', '-', '*', '/'\n",
    "    *args (float): Los números sobre los que se realizará la operación.\n",
    "    \n",
    "    Returns:\n",
    "    float: El resultado de la operación, o un mensaje de error si es necesario.\n",
    "    \"\"\"\n",
    "    if operator == '+':\n",
    "        return add(*args)\n",
    "    elif operator == '-':\n",
    "        return subtract(*args)\n",
    "    elif operator == '*':\n",
    "        return multiply(*args)\n",
    "    elif operator == '/':\n",
    "        # Para la división, solo usamos el primer y segundo operando\n",
    "        if len(args) == 2:\n",
    "            return divide(args[0], args[1])\n",
    "        else:\n",
    "            return \"Error: La división requiere exactamente dos números\"\n",
    "    else:\n",
    "        return \"Error: Operador no válido\"\n",
    "\n",
    "# Pruebas\n",
    "\n",
    "# Suma de 3 números\n",
    "print(calculate('+', 1, 2, 3))  # Resultado: 6\n",
    "\n",
    "# Resta de 4 números\n",
    "print(calculate('-', 10, 3, 2, 1))  # Resultado: 4\n",
    "\n",
    "# Multiplicación de 5 números\n",
    "print(calculate('*', 2, 3, 4, 5, 6))  # Resultado: 720\n",
    "\n",
    "# División de 2 números\n",
    "print(calculate('/', 10, 2))  # Resultado: 5.0\n",
    "\n",
    "# División por cero\n",
    "print(calculate('/', 10, 0))  # Resultado: \"Error: División por cero\"\n",
    "\n",
    "# División con más de 2 números (esto generará un error porque la división solo se puede hacer entre 2 números)\n",
    "print(calculate('/', 10, 2, 1))  # Resultado: \"Error: La división requiere exactamente dos números\"\n",
    "\n",
    "# Operador no válido\n",
    "print(calculate('^', 10, 2))  # Resultado: \"Error: Operador no válido\"\n"
   ]
  },
  {
   "cell_type": "markdown",
   "id": "af2de734-2a0e-4458-9cb8-57284b7108ae",
   "metadata": {},
   "source": [
    "## Challenge 3: importing functions from a Python file"
   ]
  },
  {
   "cell_type": "markdown",
   "id": "56780ce8-6610-4fb5-a4ef-22cd46af83d2",
   "metadata": {},
   "source": [
    "Moving the functions created in Challenge 1 to a Python file.\n",
    "\n",
    "- In the same directory as your Jupyter Notebook, create a new Python file called `functions.py`.\n",
    "- Copy and paste the functions you created earlier in the Jupyter Notebook into the functions.py file. Rename the functions to `get_unique_list_f, count_case_f, remove_punctuation_f, word_count_f`. Add the _f suffix to each function name to ensure that you're calling the functions from your file.\n",
    "- Save the `functions.py` file and switch back to the Jupyter Notebook.\n",
    "- In a new cell, import the functions from functions.py\n",
    "- Call each function with some sample input to test that they're working properly.\n",
    "\n",
    "There are several ways to import functions from a Python module such as functions.py to a Jupyter Notebook:\n",
    "\n",
    "1. Importing specific functions: If you only need to use a few functions from the module, you can import them individually using the from keyword. This way, you can call the functions directly using their names, without having to use the module name. For example:\n",
    "\n",
    "```python\n",
    "from function_file import function_name\n",
    "\n",
    "function_name(arguments)```\n",
    "\n",
    "2. Importing the entire module: You can import the entire module using the import keyword followed by the name of the module. Then, you can call the functions using the module_name.function_name() syntax. Example:\n",
    "\n",
    "```python\n",
    "import function_file\n",
    "\n",
    "function_file.function_name()\n",
    "```\n",
    "\n",
    "3. Renaming functions during import: You can also rename functions during import using the as keyword. This is useful if you want to use a shorter or more descriptive name for the function in your code. For example:\n",
    "\n",
    "```python\n",
    "from function_file import function_name as f\n",
    "\n",
    "f.function_name(arguments)\n",
    "```\n",
    "\n",
    "Regardless of which method you choose, make sure that the functions.py file is in the same directory as your Jupyter Notebook, or else specify the path to the file in the import statement or by using `sys.path`.\n",
    "\n",
    "You can find examples on how to import Python files into jupyter notebook here: \n",
    "- https://medium.com/cold-brew-code/a-quick-guide-to-understanding-pythons-import-statement-505eea2d601f\n",
    "- https://www.geeksforgeeks.org/absolute-and-relative-imports-in-python/\n",
    "- https://www.pythonforthelab.com/blog/complete-guide-to-imports-in-python-absolute-relative-and-more/\n",
    "\n"
   ]
  },
  {
   "cell_type": "markdown",
   "id": "14f222c5-e7bb-4626-b45c-bd735001f768",
   "metadata": {},
   "source": [
    "To ensure that any changes made to the Python file are reflected in the Jupyter Notebook upon import, we need to use an IPython extension that allows for automatic reloading of modules. Without this extension, changes made to the file won't be reloaded or refreshed in the notebook upon import.\n",
    "\n",
    "For that, we will include the following code:\n",
    "```python\n",
    "%load_ext autoreload\n",
    "%autoreload 2 \n",
    "```\n",
    "\n",
    "You can read more about this here: https://ipython.readthedocs.io/en/stable/config/extensions/autoreload.html"
   ]
  },
  {
   "cell_type": "code",
   "execution_count": 6,
   "id": "5832ecfe-c652-418d-8fbc-bac4b1166b40",
   "metadata": {},
   "outputs": [],
   "source": [
    "# IPython extension to reload modules before executing user code.\n",
    "%load_ext autoreload\n",
    "%autoreload 2 \n"
   ]
  },
  {
   "cell_type": "code",
   "execution_count": 7,
   "id": "1527f74f",
   "metadata": {},
   "outputs": [],
   "source": [
    "# Importar las funciones del archivo functions.py\n",
    "from functions import get_unique_list_f, count_case_f, remove_punctuation_f, word_count_f"
   ]
  },
  {
   "cell_type": "markdown",
   "id": "06d0eb13-8dcb-4783-8f74-8f71beb2d0b4",
   "metadata": {},
   "source": [
    "## Bonus: recursive functions\n",
    "\n",
    "The Fibonacci sequence is a mathematical sequence that appears in various fields, including nature, finance, and computer science. It starts with 0 and 1, and each subsequent number is the sum of the two preceding numbers. The sequence goes like this: 0, 1, 1, 2, 3, 5, 8, 13, 21, 34, and so on.\n",
    "\n",
    "Write a Python function that uses recursion to compute the Fibonacci sequence up to a given number n.\n",
    "\n",
    "To accomplish this, create a function that calculates the Fibonacci number for a given input. For example, the 10th Fibonacci number is 55.\n",
    "Then create another function that generates a list of Fibonacci numbers from 0 to n.\n",
    "Test your function by calling it with different input parameters."
   ]
  },
  {
   "cell_type": "markdown",
   "id": "b1686493-48bb-47f1-b3c9-75994816b277",
   "metadata": {},
   "source": [
    "Example:\n",
    "\n",
    "*Expected output for n = 14:*\n",
    "\n",
    "*Fibonacci sequence: [1, 1, 2, 3, 5, 8, 13, 21, 34, 55, 89, 144, 233, 377]*"
   ]
  },
  {
   "cell_type": "code",
   "execution_count": 8,
   "id": "a1d55cea-96c3-4853-8220-17c0904a8816",
   "metadata": {},
   "outputs": [
    {
     "name": "stdout",
     "output_type": "stream",
     "text": [
      "El 10mo número de Fibonacci es: 55\n",
      "Lista de Fibonacci hasta el 10mo número: [0, 1, 1, 2, 3, 5, 8, 13, 21, 34, 55]\n"
     ]
    }
   ],
   "source": [
    "# Función recursiva para calcular el n-ésimo número de Fibonacci\n",
    "def fibonacci(n):\n",
    "    \"\"\"\n",
    "    Calcula el n-ésimo número en la secuencia de Fibonacci de manera recursiva.\n",
    "\n",
    "    Parámetros:\n",
    "    n (int): El índice en la secuencia de Fibonacci.\n",
    "\n",
    "    Retorna:\n",
    "    int: El n-ésimo número de Fibonacci.\n",
    "    \"\"\"\n",
    "    if n <= 1:  # Caso base: Fibonacci(0) = 0 y Fibonacci(1) = 1\n",
    "        return n\n",
    "    else:\n",
    "        return fibonacci(n - 1) + fibonacci(n - 2)\n",
    "\n",
    "# Función para generar la lista de números Fibonacci hasta el n-ésimo número\n",
    "def fibonacci_list(n):\n",
    "    \"\"\"\n",
    "    Genera una lista de números Fibonacci desde 0 hasta el n-ésimo número.\n",
    "\n",
    "    Parámetros:\n",
    "    n (int): El índice hasta el cual se genera la secuencia.\n",
    "\n",
    "    Retorna:\n",
    "    list: Una lista de los números de Fibonacci desde 0 hasta el n-ésimo número.\n",
    "    \"\"\"\n",
    "    return [fibonacci(i) for i in range(n + 1)]  # Lista de Fibonacci hasta el número n\n",
    "\n",
    "# Pruebas\n",
    "\n",
    "# Calcular el 10mo número de Fibonacci\n",
    "print(f\"El 10mo número de Fibonacci es: {fibonacci(10)}\")  # Resultado esperado: 55\n",
    "\n",
    "# Generar una lista de Fibonacci hasta el 10mo número\n",
    "print(f\"Lista de Fibonacci hasta el 10mo número: {fibonacci_list(10)}\")  \n",
    "# Resultado esperado: [0, 1, 1, 2, 3, 5, 8, 13, 21, 34, 55]\n"
   ]
  },
  {
   "cell_type": "code",
   "execution_count": 9,
   "id": "b4a9fd26",
   "metadata": {},
   "outputs": [
    {
     "data": {
      "text/plain": [
       "' \\nLas funciones recursivas para Fibonacci pueden ser muy ineficientes para valores grandes de n debido a la repetición de cálculos. \\nPodríamos optimizarla utilizando memoización o guardando los resultados de las subllamadas para evitar cálculos redundantes.\\n\\nAquí te dejo una versión optimizada con memoización usando un diccionario para almacenar los resultados ya calculados:\\n'"
      ]
     },
     "execution_count": 9,
     "metadata": {},
     "output_type": "execute_result"
    }
   ],
   "source": [
    "# Optimización de FIBONACCI\n",
    "\n",
    "\"\"\" \n",
    "Las funciones recursivas para Fibonacci pueden ser muy ineficientes para valores grandes de n debido a la repetición de cálculos. \n",
    "Podríamos optimizarla utilizando memoización o guardando los resultados de las subllamadas para evitar cálculos redundantes.\n",
    "\n",
    "Aquí te dejo una versión optimizada con memoización usando un diccionario para almacenar los resultados ya calculados:\n",
    "\"\"\""
   ]
  },
  {
   "cell_type": "code",
   "execution_count": 10,
   "id": "9c373116",
   "metadata": {},
   "outputs": [
    {
     "name": "stdout",
     "output_type": "stream",
     "text": [
      "55\n"
     ]
    }
   ],
   "source": [
    "# Función recursiva optimizada con memoización\n",
    "def fibonacci_memo(n, memo={}):\n",
    "    \"\"\"\n",
    "    Calcula el n-ésimo número en la secuencia de Fibonacci de manera recursiva con memoización.\n",
    "\n",
    "    Parámetros:\n",
    "    n (int): El índice en la secuencia de Fibonacci.\n",
    "    memo (dict): Diccionario para almacenar los resultados previamente calculados.\n",
    "\n",
    "    Retorna:\n",
    "    int: El n-ésimo número de Fibonacci.\n",
    "    \"\"\"\n",
    "    if n in memo:  # Si el resultado ya fue calculado, lo retornamos\n",
    "        return memo[n]\n",
    "    if n <= 1:  # Caso base: Fibonacci(0) = 0 y Fibonacci(1) = 1\n",
    "        return n\n",
    "    else:\n",
    "        # Guardamos el resultado de la llamada recursiva\n",
    "        memo[n] = fibonacci_memo(n - 1, memo) + fibonacci_memo(n - 2, memo)\n",
    "        return memo[n]\n",
    "\n",
    "# Prueba optimizada\n",
    "print(fibonacci_memo(10))  # Resultado esperado: 55\n"
   ]
  }
 ],
 "metadata": {
  "kernelspec": {
   "display_name": "Python 3",
   "language": "python",
   "name": "python3"
  },
  "language_info": {
   "codemirror_mode": {
    "name": "ipython",
    "version": 3
   },
   "file_extension": ".py",
   "mimetype": "text/x-python",
   "name": "python",
   "nbconvert_exporter": "python",
   "pygments_lexer": "ipython3",
   "version": "3.9.6"
  }
 },
 "nbformat": 4,
 "nbformat_minor": 5
}
